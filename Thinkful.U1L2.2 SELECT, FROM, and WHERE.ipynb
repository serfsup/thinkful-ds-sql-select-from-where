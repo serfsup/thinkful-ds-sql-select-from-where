{
 "cells": [
  {
   "cell_type": "markdown",
   "metadata": {},
   "source": [
    "SELECT\n",
    "\ttrip_id,\n",
    "\tduration\n",
    "FROM\n",
    "\ttrips\n",
    "WHERE\n",
    "\tduration > 500\n",
    "ORDER BY duration DESC "
   ]
  },
  {
   "cell_type": "markdown",
   "metadata": {},
   "source": [
    "SELECT\n",
    "\t*\n",
    "FROM\n",
    "\tstations\n",
    "WHERE\n",
    "\tstation_id = 84"
   ]
  },
  {
   "cell_type": "markdown",
   "metadata": {},
   "source": [
    "SELECT \n",
    "\tMinTemperatureF\n",
    "FROM \n",
    "\tweather\n",
    "WHERE \n",
    "\tZIP = 94301 AND \n",
    "\tPrecipitationIn IS NOT 0"
   ]
  }
 ],
 "metadata": {
  "kernelspec": {
   "display_name": "Python 3",
   "language": "python",
   "name": "python3"
  },
  "language_info": {
   "codemirror_mode": {
    "name": "ipython",
    "version": 3
   },
   "file_extension": ".py",
   "mimetype": "text/x-python",
   "name": "python",
   "nbconvert_exporter": "python",
   "pygments_lexer": "ipython3",
   "version": "3.6.1"
  }
 },
 "nbformat": 4,
 "nbformat_minor": 2
}
